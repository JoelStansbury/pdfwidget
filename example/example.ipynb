{
 "cells": [
  {
   "cell_type": "markdown",
   "metadata": {},
   "source": [
    "```bash\n",
    " conda install -c conda-forge jupyterlab\n",
    " conda install ipywidgets\n",
    " jupyter nbextension enable --py widgetsnbextension\n",
    " conda install -c conda-forge ipyevents\n",
    " jupyter labextension install @jupyter-widgets/jupyterlab-manager ipyevents\n",
    " conda install -c conda-forge poppler\n",
    " pip install pdf2image\n",
    "\n",
    "```"
   ]
  },
  {
   "cell_type": "code",
   "execution_count": 1,
   "metadata": {},
   "outputs": [],
   "source": [
    "from pdfwidget import PdfViewer"
   ]
  },
  {
   "cell_type": "code",
   "execution_count": 2,
   "metadata": {},
   "outputs": [
    {
     "data": {
      "application/vnd.jupyter.widget-view+json": {
       "model_id": "cc40901fbd9943988cd593697bca8954",
       "version_major": 2,
       "version_minor": 0
      },
      "text/plain": [
       "PdfViewer(value=b'BM\\x8e\\xfb\\x0f\\x00\\x00\\x00\\x00\\x006\\x00\\x00\\x00(\\x00\\x00\\x00\\xf1\\x01\\x00\\x00\\xbe\\x02\\x00\\x00…"
      ]
     },
     "metadata": {},
     "output_type": "display_data"
    }
   ],
   "source": [
    "PdfViewer(\"1808.00487.pdf\", dpi=60,)"
   ]
  },
  {
   "cell_type": "code",
   "execution_count": null,
   "metadata": {},
   "outputs": [],
   "source": []
  }
 ],
 "metadata": {
  "kernelspec": {
   "display_name": "Python 3",
   "language": "python",
   "name": "python3"
  },
  "language_info": {
   "codemirror_mode": {
    "name": "ipython",
    "version": 3
   },
   "file_extension": ".py",
   "mimetype": "text/x-python",
   "name": "python",
   "nbconvert_exporter": "python",
   "pygments_lexer": "ipython3",
   "version": "3.8.1"
  }
 },
 "nbformat": 4,
 "nbformat_minor": 4
}
